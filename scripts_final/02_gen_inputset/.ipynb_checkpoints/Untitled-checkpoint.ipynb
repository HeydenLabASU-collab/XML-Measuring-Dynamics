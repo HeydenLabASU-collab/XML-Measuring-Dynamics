{
 "cells": [
  {
   "cell_type": "code",
   "execution_count": 2,
   "id": "9116a016-b72e-4ccd-b2b2-ec042f183304",
   "metadata": {},
   "outputs": [
    {
     "name": "stdout",
     "output_type": "stream",
     "text": [
      "Generating Column Names\n"
     ]
    }
   ],
   "source": [
    "from XMLEvoDynam.MLInputTools import *\n",
    "\n",
    "GROUP1 = np.arange(0,253,1)\n",
    "GROUP2 = np.arange(0,253,1)\n",
    "print(f\"Generating Column Names\")\n",
    "column_names = MLInputTools.construct_feature_names(GROUP1, GROUP2)"
   ]
  },
  {
   "cell_type": "code",
   "execution_count": 4,
   "id": "ac375ee2-86f3-483a-b904-59a829cd9b40",
   "metadata": {},
   "outputs": [],
   "source": [
    "import numpy as np\n",
    "from sklearn.model_selection import train_test_split\n",
    "\n",
    "SYSTEM = [\"VGSDWRFLRGYHQYQ\", \"VGSDWRFLRGYHQYA\"]\n",
    "SYSTEM_DIR = \"../01_prep\"\n",
    "column_kept = \"../02_gen_inputset/keeper.npy\"\n",
    "input_kept = \"../02_gen_inputset/input.npy\"\n",
    "CUTOFF_DISTANCE = 6\n",
    "\n",
    "def define_parameters(system_dir, system, column_kept, n_samples):\n",
    "    n_states = len(system)\n",
    "    n_samples = 3987\n",
    "    n_samples_per_structure = int(n_samples/n_states)\n",
    "    split_percent = int(n_samples_per_structure*0.8)\n",
    "    n_features = len(np.load(f\"{column_kept}\"))\n",
    "    return n_states, n_samples, n_samples_per_structure, split_percent, n_features\n",
    "\n",
    "n_states, n_samples, n_samples_per_structure, split_percent, n_features = define_parameters(SYSTEM_DIR, SYSTEM, column_kept, input_kept)"
   ]
  },
  {
   "cell_type": "code",
   "execution_count": null,
   "id": "be17e3c7-0f16-4cc6-96de-9e0416bb0829",
   "metadata": {},
   "outputs": [],
   "source": [
    "\n",
    "dataset = np.memmap('../02_gen_inputset/input.npy', dtype='float32', mode='r', shape=(n_samples, n_features))\n",
    "\n",
    "X_train, X_test, y_train, y_test = train_test_split(X, y, test_size=0.33, random_state=42)"
   ]
  },
  {
   "cell_type": "code",
   "execution_count": null,
   "id": "14ae5b5e-45d5-45be-8b75-1de2b7f1305e",
   "metadata": {},
   "outputs": [],
   "source": []
  }
 ],
 "metadata": {
  "kernelspec": {
   "display_name": "KEMP_ML",
   "language": "python",
   "name": "kemp_ml"
  },
  "language_info": {
   "codemirror_mode": {
    "name": "ipython",
    "version": 3
   },
   "file_extension": ".py",
   "mimetype": "text/x-python",
   "name": "python",
   "nbconvert_exporter": "python",
   "pygments_lexer": "ipython3",
   "version": "3.12.5"
  }
 },
 "nbformat": 4,
 "nbformat_minor": 5
}
